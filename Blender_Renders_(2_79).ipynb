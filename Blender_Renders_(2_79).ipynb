{
  "nbformat": 4,
  "nbformat_minor": 0,
  "metadata": {
    "colab": {
      "name": "Blender Renders (2.79)",
      "private_outputs": true,
      "provenance": [],
      "mount_file_id": "1ne5oRtKzkLPtCXQyvdWrk1YNadnAVMRx",
      "authorship_tag": "ABX9TyPvr6a4whdEA/bR0i3r8Koy",
      "include_colab_link": true
    },
    "kernelspec": {
      "name": "python3",
      "display_name": "Python 3"
    },
    "language_info": {
      "name": "python"
    },
    "accelerator": "GPU"
  },
  "cells": [
    {
      "cell_type": "markdown",
      "metadata": {
        "id": "view-in-github",
        "colab_type": "text"
      },
      "source": [
        "<a href=\"https://colab.research.google.com/github/shelldoesthings/blender-colab/blob/main/Blender_Renders_(2_79).ipynb\" target=\"_parent\"><img src=\"https://colab.research.google.com/assets/colab-badge.svg\" alt=\"Open In Colab\"/></a>"
      ]
    },
    {
      "cell_type": "code",
      "metadata": {
        "id": "WA6GImWdIwlH"
      },
      "source": [
        "# Download blender (only do once)\n",
        "!wget https://download.blender.org/release/Blender2.79/blender-2.79-linux-glibc219-x86_64.tar.bz2"
      ],
      "execution_count": null,
      "outputs": []
    },
    {
      "cell_type": "code",
      "metadata": {
        "id": "vpumdCYLJ_ub"
      },
      "source": [
        "# Extract the file\n",
        "!tar xf blender-2.79-linux-glibc219-x86_64.tar.bz2"
      ],
      "execution_count": null,
      "outputs": []
    },
    {
      "cell_type": "code",
      "metadata": {
        "id": "NyTFlfNAKT8I"
      },
      "source": [
        "# Install dependencies you may be missing\n",
        "!apt install libboost-all-dev\n",
        "!apt install libgll-mesa-dev"
      ],
      "execution_count": null,
      "outputs": []
    },
    {
      "cell_type": "code",
      "metadata": {
        "id": "zxZr_9ttPUeL"
      },
      "source": [
        "filename = '/content/drive/MyDrive/blender/splash-pokedstudio.blend'"
      ],
      "execution_count": null,
      "outputs": []
    },
    {
      "cell_type": "code",
      "metadata": {
        "id": "PeGsnOIaPjFC"
      },
      "source": [
        "#Run blender\n",
        "\n",
        "!sudo ./blender-2.79-linux-glibc219-x86_64/blender -b $filename -noaudio -P '/content/drive/MyDrive/blender/GPU.py'  -E 'CYCLES' -f 1 -F 'PNG'\n"
      ],
      "execution_count": null,
      "outputs": []
    },
    {
      "cell_type": "code",
      "metadata": {
        "id": "P95CHdKYQhdG"
      },
      "source": [
        "pwd"
      ],
      "execution_count": null,
      "outputs": []
    }
  ]
}